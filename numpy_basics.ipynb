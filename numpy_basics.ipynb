{
 "cells": [
  {
   "cell_type": "code",
   "execution_count": null,
   "id": "80fe9817",
   "metadata": {},
   "outputs": [],
   "source": [
    "#PYTHON NUMPY ARRAYS BASICS"
   ]
  },
  {
   "cell_type": "code",
   "execution_count": 13,
   "id": "f12c37b8",
   "metadata": {},
   "outputs": [
    {
     "data": {
      "text/plain": [
       "array([1, 2, 3, 4])"
      ]
     },
     "execution_count": 13,
     "metadata": {},
     "output_type": "execute_result"
    }
   ],
   "source": [
    "import numpy as np\n",
    "arr= np.array([1,2,3,4])\n",
    "arr"
   ]
  },
  {
   "cell_type": "code",
   "execution_count": 14,
   "id": "f2cc48e5",
   "metadata": {},
   "outputs": [
    {
     "data": {
      "text/plain": [
       "1"
      ]
     },
     "execution_count": 14,
     "metadata": {},
     "output_type": "execute_result"
    }
   ],
   "source": [
    "arr.ndim"
   ]
  },
  {
   "cell_type": "code",
   "execution_count": 15,
   "id": "ee2652f2",
   "metadata": {},
   "outputs": [
    {
     "data": {
      "text/plain": [
       "(4,)"
      ]
     },
     "execution_count": 15,
     "metadata": {},
     "output_type": "execute_result"
    }
   ],
   "source": [
    "arr.shape"
   ]
  },
  {
   "cell_type": "code",
   "execution_count": 16,
   "id": "992b9393",
   "metadata": {},
   "outputs": [
    {
     "data": {
      "text/plain": [
       "16"
      ]
     },
     "execution_count": 16,
     "metadata": {},
     "output_type": "execute_result"
    }
   ],
   "source": [
    "arr.nbytes"
   ]
  },
  {
   "cell_type": "code",
   "execution_count": 18,
   "id": "53a11607",
   "metadata": {},
   "outputs": [
    {
     "data": {
      "text/plain": [
       "4"
      ]
     },
     "execution_count": 18,
     "metadata": {},
     "output_type": "execute_result"
    }
   ],
   "source": [
    "arr[-1]"
   ]
  },
  {
   "cell_type": "code",
   "execution_count": 22,
   "id": "fbfce605",
   "metadata": {},
   "outputs": [
    {
     "data": {
      "text/plain": [
       "array([1, 2])"
      ]
     },
     "execution_count": 22,
     "metadata": {},
     "output_type": "execute_result"
    }
   ],
   "source": [
    "sliced = arr[0:2:1].copy() #x[start:stop:step]\n",
    "sliced"
   ]
  },
  {
   "cell_type": "code",
   "execution_count": 21,
   "id": "76ea58cc",
   "metadata": {},
   "outputs": [
    {
     "data": {
      "text/plain": [
       "array([1, 2, 3, 4])"
      ]
     },
     "execution_count": 21,
     "metadata": {},
     "output_type": "execute_result"
    }
   ],
   "source": [
    "arr"
   ]
  },
  {
   "cell_type": "code",
   "execution_count": null,
   "id": "0acd4989",
   "metadata": {},
   "outputs": [],
   "source": [
    "#RESHAPING AND CONCATENATION"
   ]
  },
  {
   "cell_type": "code",
   "execution_count": 23,
   "id": "af9c3475",
   "metadata": {},
   "outputs": [
    {
     "data": {
      "text/plain": [
       "array([[1, 2, 3],\n",
       "       [4, 5, 6]])"
      ]
     },
     "execution_count": 23,
     "metadata": {},
     "output_type": "execute_result"
    }
   ],
   "source": [
    "arr1 = np.array([[1,2,3], [4,5,6]])\n",
    "arr1"
   ]
  },
  {
   "cell_type": "code",
   "execution_count": 36,
   "id": "87e6d2ab",
   "metadata": {},
   "outputs": [],
   "source": [
    "# arr1.reshape(arr1, (3,2))"
   ]
  },
  {
   "cell_type": "code",
   "execution_count": 26,
   "id": "590a35f7",
   "metadata": {},
   "outputs": [
    {
     "data": {
      "text/plain": [
       "array([0, 9, 8, 7, 6, 5])"
      ]
     },
     "execution_count": 26,
     "metadata": {},
     "output_type": "execute_result"
    }
   ],
   "source": [
    "arr2 = np.array([[0,9,8], [7,6,5]])\n",
    "np.concatenate(arr2)"
   ]
  },
  {
   "cell_type": "code",
   "execution_count": 29,
   "id": "665a1648",
   "metadata": {},
   "outputs": [
    {
     "data": {
      "text/plain": [
       "array([[1, 2],\n",
       "       [3, 4]])"
      ]
     },
     "execution_count": 29,
     "metadata": {},
     "output_type": "execute_result"
    }
   ],
   "source": [
    "x = [1,2]\n",
    "y = [3,4]\n",
    "np.vstack((x,y))"
   ]
  },
  {
   "cell_type": "code",
   "execution_count": 30,
   "id": "597b4767",
   "metadata": {},
   "outputs": [
    {
     "data": {
      "text/plain": [
       "array([1, 2, 3, 4])"
      ]
     },
     "execution_count": 30,
     "metadata": {},
     "output_type": "execute_result"
    }
   ],
   "source": [
    "np.hstack((x,y))"
   ]
  },
  {
   "cell_type": "code",
   "execution_count": 31,
   "id": "aed91704",
   "metadata": {},
   "outputs": [
    {
     "data": {
      "text/plain": [
       "array([[1, 2],\n",
       "       [3, 4],\n",
       "       [5, 6]])"
      ]
     },
     "execution_count": 31,
     "metadata": {},
     "output_type": "execute_result"
    }
   ],
   "source": [
    "arr3 = np.array([[1,2], [3,4], [5,6]])   #SPLITTING\n",
    "arr3"
   ]
  },
  {
   "cell_type": "code",
   "execution_count": 33,
   "id": "f319e877",
   "metadata": {},
   "outputs": [
    {
     "data": {
      "text/plain": [
       "[array([[1, 2]]), array([[3, 4]]), array([[5, 6]])]"
      ]
     },
     "execution_count": 33,
     "metadata": {},
     "output_type": "execute_result"
    }
   ],
   "source": [
    "np.vsplit(arr3, 3)"
   ]
  },
  {
   "cell_type": "code",
   "execution_count": 37,
   "id": "fa384e0a",
   "metadata": {},
   "outputs": [
    {
     "data": {
      "text/plain": [
       "[array([[1],\n",
       "        [3],\n",
       "        [5]]),\n",
       " array([[2],\n",
       "        [4],\n",
       "        [6]])]"
      ]
     },
     "execution_count": 37,
     "metadata": {},
     "output_type": "execute_result"
    }
   ],
   "source": [
    "np.hsplit(arr3, 2)"
   ]
  },
  {
   "cell_type": "code",
   "execution_count": null,
   "id": "5881ea4c",
   "metadata": {},
   "outputs": [],
   "source": [
    "#COMPUTATIONS AND AGGREGATIONS"
   ]
  },
  {
   "cell_type": "code",
   "execution_count": 39,
   "id": "22815166",
   "metadata": {},
   "outputs": [
    {
     "data": {
      "text/plain": [
       "1.707825127659933"
      ]
     },
     "execution_count": 39,
     "metadata": {},
     "output_type": "execute_result"
    }
   ],
   "source": [
    "np.std(arr3)"
   ]
  },
  {
   "cell_type": "code",
   "execution_count": 41,
   "id": "8018c53e",
   "metadata": {},
   "outputs": [
    {
     "data": {
      "text/plain": [
       "6"
      ]
     },
     "execution_count": 41,
     "metadata": {},
     "output_type": "execute_result"
    }
   ],
   "source": [
    "np.amax(arr3)"
   ]
  },
  {
   "cell_type": "code",
   "execution_count": 45,
   "id": "9509b084",
   "metadata": {},
   "outputs": [],
   "source": [
    "#Create a null vector (all zeros) of size 10 and set it in the variable called “Z”.\n",
    "# Your solution goes here (Z = ....)\n",
    "Z = np.array([0,0,0,0,0,0,0,0,0,0])\n",
    "#Z = np.zeros(10)"
   ]
  },
  {
   "cell_type": "code",
   "execution_count": null,
   "id": "a5cd5b0f",
   "metadata": {},
   "outputs": [],
   "source": [
    "#Create a 1D array of numbers from 0 to 9 and set it in the variable called “arr”.\n",
    "# Your solution goes here\n",
    "arr = np.array([0,1,2,3,4,5,6,7,8,9])"
   ]
  },
  {
   "cell_type": "code",
   "execution_count": null,
   "id": "b5d64018",
   "metadata": {},
   "outputs": [],
   "source": [
    "#Create a 3x3x3 array with random values and set it in the variable called “arr”.\n",
    "arr = np.random.random((3,3,3))"
   ]
  },
  {
   "cell_type": "code",
   "execution_count": null,
   "id": "1d48f36d",
   "metadata": {},
   "outputs": [],
   "source": [
    "#Create a 10x10 array with random values called “arr4”. Find its minimum and maximum values and set them in the variables called “min_val” and “max_val” respectively.\n",
    "arr4 = np.random.random((10,10))\n",
    "min_val = np.min(arr4)\n",
    "max_val = np.max(arr4)"
   ]
  },
  {
   "cell_type": "code",
   "execution_count": null,
   "id": "a24da580",
   "metadata": {},
   "outputs": [],
   "source": [
    "#First create a 1D array with numbers from 1 to 9 and then convert it into a 3x3 grid. Store the final answer in the variable called “grid”\n",
    "grid = np.arange(1,10).reshape((3,3))"
   ]
  },
  {
   "cell_type": "code",
   "execution_count": null,
   "id": "fbfa7e6b",
   "metadata": {},
   "outputs": [],
   "source": [
    "#Replace the maximum value in the given vector, “arr6”, with -1.\n",
    "arr6 = np.arange(10)\n",
    "max_val = np.max(arr6)\n",
    "arr6[max_val] = -1"
   ]
  },
  {
   "cell_type": "code",
   "execution_count": null,
   "id": "135d491f",
   "metadata": {},
   "outputs": [],
   "source": [
    "# Reverse the rows of the given 2D array, “arr7”.\n",
    "arr7 = np.arange(9).reshape(3,3)\n",
    "arr7 = arr7[::-1]"
   ]
  },
  {
   "cell_type": "code",
   "execution_count": null,
   "id": "524d370d",
   "metadata": {},
   "outputs": [],
   "source": [
    "#Subtract the mean of each row of the given 2D array, “arr8”, from the values in the array. Set the updated array in “transformed_arr8”.\n",
    "arr8 = np.random.rand(3, 10)\n",
    "transformed_arr8 =  arr8 - arr8.mean(axis=1, keepdims=True)"
   ]
  }
 ],
 "metadata": {
  "kernelspec": {
   "display_name": "Python 3 (ipykernel)",
   "language": "python",
   "name": "python3"
  },
  "language_info": {
   "codemirror_mode": {
    "name": "ipython",
    "version": 3
   },
   "file_extension": ".py",
   "mimetype": "text/x-python",
   "name": "python",
   "nbconvert_exporter": "python",
   "pygments_lexer": "ipython3",
   "version": "3.9.13"
  }
 },
 "nbformat": 4,
 "nbformat_minor": 5
}
